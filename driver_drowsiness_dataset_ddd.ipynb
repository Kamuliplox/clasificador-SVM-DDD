{
  "nbformat": 4,
  "nbformat_minor": 0,
  "metadata": {
    "colab": {
      "provenance": []
    },
    "kernelspec": {
      "name": "python3",
      "display_name": "Python 3"
    },
    "language_info": {
      "name": "python"
    }
  },
  "cells": [
    {
      "cell_type": "code",
      "execution_count": null,
      "metadata": {
        "id": "mQW44PAg-sv4"
      },
      "outputs": [],
      "source": [
        "# Somnolencia al Manejar\n",
        "\n",
        "# [Víndulo del Kaggle](https://www.kaggle.com/datasets/ismailnasri20/driver-drowsiness-dataset-ddd)\n",
        "\n",
        "import os\n",
        "import cv2\n",
        "from google.colab.patches import cv2_imshow\n",
        "import matplotlib.pyplot as plt\n",
        "import pandas as pd\n",
        "from google.colab import drive\n",
        "import numpy as np\n",
        "from sklearn.svm import SVC\n",
        "from sklearn.metrics import accuracy_score\n",
        "from sklearn.model_selection import train_test_split"
      ]
    },
    {
      "cell_type": "code",
      "source": [
        "\"\"\"Dado el peso de las imágenes, debemos primero subir las imágenes a Google Drive y desde ahí modificarlas.\"\"\"\n",
        "\n",
        "drive.mount('/content/drive')\n",
        "\n",
        "\"\"\"## Preparación\n",
        "\n",
        "El set de imágenes se obtiene por medio de un `.zip`. `!unzip` permite descomprimir su contenido en el proyecto.\n",
        "\"\"\"\n",
        "\n",
        "!unzip /content/drive/MyDrive/dataset.zip #&> /dev/null"
      ],
      "metadata": {
        "id": "b65ms-lU_YxV"
      },
      "execution_count": null,
      "outputs": []
    },
    {
      "cell_type": "code",
      "source": [
        "\"\"\"Para poder simplificar su manejo, se modificarán las imágenes para tener solo las escala de grises. Los colores en las imágenes de este proyecto no son de mayor importancia, logrando descartarlas y así simplificar el proceso.\"\"\"\n",
        "\n",
        "non_drowsy = {\n",
        "    'path': './non_drowsy/',\n",
        "    'end_path' : 'grayscale_non_drowsy/',\n",
        "    'files': os.listdir(path='./non_drowsy')[0:150],\n",
        "    'target' : 0\n",
        "}\n",
        "drowsy =  {\n",
        "    'path': './drowsy/',\n",
        "    'end_path' : 'grayscale_drowsy/',\n",
        "    'files': os.listdir(path='./drowsy')[0:150],\n",
        "    'target' : 1\n",
        "}\n",
        "\n",
        "dataset = {\n",
        "    'imagenes' : [],\n",
        "    'data' : [],\n",
        "    'target' : []\n",
        "}"
      ],
      "metadata": {
        "id": "3_pze6TP_cf8"
      },
      "execution_count": null,
      "outputs": []
    },
    {
      "cell_type": "code",
      "source": [
        "def mostrar(n1, n2):\n",
        "  img1 = cv2.imread(drowsy['path'] + drowsy['files'][n1])\n",
        "  cv2_imshow(img1)\n",
        "  print(img1.shape)\n",
        "\n",
        "  img2 = cv2.imread(non_drowsy['path'] + non_drowsy['files'][n2])\n",
        "  cv2_imshow(img2)\n",
        "  print(img2.shape)\n",
        "\n",
        "mostrar(6,10)\n",
        "\n"
      ],
      "metadata": {
        "id": "THpcUidN_gCP"
      },
      "execution_count": null,
      "outputs": []
    },
    {
      "cell_type": "code",
      "source": [
        "def grayscale(set, esta_zzz):\n",
        "    for file in set['files']:\n",
        "        imagen = cv2.imread(set['path'] + file)\n",
        "        gray = cv2.cvtColor(imagen, cv2.COLOR_BGR2GRAY)\n",
        "\n",
        "        # Este código es extremadamente temporal\n",
        "        dataset['imagenes'].append(gray) # Imagenes\n",
        "        dataset['data'].append(gray.ravel())\n",
        "        dataset['target'].append(set['target']) #\n",
        "\n",
        "        if not cv2.imwrite(set['end_path'] + file, gray):\n",
        "            print(f'ERROR guardando {file} a {set[\"end_path\"]}')\n",
        "        else:\n",
        "            print(f'Guardado {file} en {set[\"end_path\"]}')\n",
        "\n",
        "try:\n",
        "  os.mkdir(non_drowsy['end_path'])\n",
        "  os.mkdir(drowsy['end_path'])\n",
        "except:\n",
        "  print(\"Carpetas ya existen\")\n",
        "\n",
        "grayscale(drowsy, 1)\n",
        "grayscale(non_drowsy, 0)\n",
        "\n"
      ],
      "metadata": {
        "id": "adCrJy-e_m4v"
      },
      "execution_count": null,
      "outputs": []
    },
    {
      "cell_type": "code",
      "source": [
        "def mostrar_gris(n1, n2):\n",
        "  img1 = cv2.imread(drowsy['end_path'] + drowsy['files'][n1])\n",
        "  img1 = cv2.cvtColor(img1, cv2.COLOR_BGR2GRAY)\n",
        "  cv2_imshow(img1)\n",
        "  print(img1.shape)\n",
        "\n",
        "  img2 = cv2.imread(non_drowsy['end_path'] + non_drowsy['files'][n2])\n",
        "  img2 = cv2.cvtColor(img2, cv2.COLOR_BGR2GRAY)\n",
        "  cv2_imshow(img2)\n",
        "  print(img2.shape)\n",
        "\n",
        "mostrar_gris(6,10)\n",
        "\n",
        "print(dataset['imagenes'][0])\n",
        "print(dataset['data'][0])\n",
        "\n",
        "print(dataset['imagenes'][len(dataset['data']) - 1])\n",
        "print(dataset['data'][len(dataset['data']) - 1])\n",
        "\n",
        "dataframe = pd.DataFrame.from_dict(dataset)\n",
        "print(dataframe.head())\n",
        "\n",
        "print(dataframe[['data']].describe())"
      ],
      "metadata": {
        "id": "0Mwpi4lW_xug"
      },
      "execution_count": null,
      "outputs": []
    },
    {
      "cell_type": "code",
      "source": [
        "\"\"\"## Desarrollo\"\"\"\n",
        "\n",
        "len_drowsy = len(os.listdir('./drowsy/'))\n",
        "size_drowsy = os.path.getsize('./drowsy/')\n",
        "\n",
        "len_non_drowsy = len(os.listdir('./non_drowsy/'))\n",
        "size_non_drowsy = os.path.getsize('./non_drowsy/')\n",
        "\n",
        "print('Cantidad de imágenes de somnolencia:', len_drowsy, f'({size_drowsy})')\n",
        "print('Cantidad de imágenes de sin somnolencia:', len_non_drowsy, f'({size_non_drowsy})')\n",
        "print('Total:', len_drowsy + len_non_drowsy, f'({size_drowsy + size_non_drowsy})')\n",
        "\n",
        "len_gray_drowsy = len(os.listdir('./grayscale_drowsy/'))\n",
        "size_gray_drowsy = os.path.getsize('./grayscale_drowsy/')\n",
        "\n",
        "len_gray_non_drowsy = len(os.listdir('./grayscale_non_drowsy/'))\n",
        "size_gray_non_drowsy = os.path.getsize('./grayscale_non_drowsy/')\n",
        "\n",
        "print('Cantidad de imágenes de somnolencia:', len_gray_drowsy, f'({size_gray_drowsy })')\n",
        "print('Cantidad de imágenes de sin somnolencia:', len_gray_non_drowsy, f'({size_gray_non_drowsy})')\n",
        "print('Total:', len_gray_drowsy + len_gray_non_drowsy, f'({size_gray_drowsy + size_gray_non_drowsy})')"
      ],
      "metadata": {
        "id": "wO9Sh9-C_24L"
      },
      "execution_count": null,
      "outputs": []
    },
    {
      "cell_type": "code",
      "source": [
        "figura = plt.figure()\n",
        "for i in range(1,26):\n",
        "  grid = figura.add_subplot(5,5,i)\n",
        "\n",
        "  grid.imshow(dataset['imagenes'][i])\n",
        "\n",
        "plt.show()\n",
        "\n",
        "imagenes = dataset['imagenes']\n",
        "features = dataset['data']\n",
        "targets = dataset['target']\n",
        "\n",
        "train_features, test_features, train_targets, test_targets = train_test_split(\n",
        "        features, targets,\n",
        "        train_size=0.8,\n",
        "        test_size=0.2,\n",
        "        random_state=43,\n",
        "        stratify=targets\n",
        "    )\n",
        "\n",
        "classifier = SVC(kernel = 'linear')\n",
        "classifier.fit(train_features, train_targets)\n",
        "\n",
        "prediction_training_targets = classifier.predict(train_features)\n",
        "self_accuracy = accuracy_score(train_targets, prediction_training_targets)\n",
        "print(\"Precisión para información entrenada:\", self_accuracy)\n",
        "\n",
        "\n",
        "prediction_test_targets = classifier.predict(test_features)\n",
        "test_accuracy = accuracy_score(test_targets, prediction_test_targets)\n",
        "print(\"Precisión por información de testeo:\", test_accuracy)"
      ],
      "metadata": {
        "id": "5CZ2tpYg_5v6"
      },
      "execution_count": null,
      "outputs": []
    },
    {
      "cell_type": "code",
      "source": [
        "\"\"\"# Test\"\"\"\n",
        "\n",
        "test_target = []\n",
        "path = './non_drowsy/'\n",
        "imgs_drowsy = os.listdir(path)[800:1000]\n",
        "for i in range(0,127):\n",
        "  test_imagen = cv2.imread(path + imgs_drowsy[i])\n",
        "  test_imagen = cv2.cvtColor(test_imagen, cv2.COLOR_BGR2GRAY)\n",
        "  test_target.append(test_imagen.ravel())\n",
        "\n",
        "resultado =classifier.predict(test_target)\n",
        "print(resultado)\n",
        "\n",
        "test_target = []\n",
        "path = './drowsy/'\n",
        "imgs_drowsy = os.listdir(path)[2000:2200]\n",
        "for i in range(0,127):\n",
        "  test_imagen = cv2.imread(path + imgs_drowsy[i])\n",
        "  test_imagen = cv2.cvtColor(test_imagen, cv2.COLOR_BGR2GRAY)\n",
        "  test_target.append(test_imagen.ravel())\n",
        "\n",
        "resultado =classifier.predict(test_target)\n",
        "print(resultado)"
      ],
      "metadata": {
        "id": "Ccmo4SC1_862"
      },
      "execution_count": null,
      "outputs": []
    }
  ]
}